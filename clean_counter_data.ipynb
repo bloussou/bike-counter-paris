{
 "cells": [
  {
   "cell_type": "code",
   "execution_count": 1,
   "id": "3019c907-9ddf-43a8-a955-f48979f32160",
   "metadata": {},
   "outputs": [],
   "source": [
    "import atoti as tt\n",
    "import pandas as pd"
   ]
  },
  {
   "cell_type": "code",
   "execution_count": 3,
   "id": "eefba640-72e2-4e21-9007-0fdcc34bdf0a",
   "metadata": {},
   "outputs": [],
   "source": [
    "dataframe = pd.read_csv(\"paris/comptage-velo-donnees-compteurs.csv\", sep=\";\")"
   ]
  },
  {
   "cell_type": "code",
   "execution_count": 5,
   "id": "74177294-6038-48b7-9027-defd33bf36e8",
   "metadata": {},
   "outputs": [],
   "source": [
    "cleaned = dataframe.drop([\n",
    "    'Nom du compteur', \n",
    "    'Identifiant du site de comptage', \n",
    "    \"Nom du site de comptage\", \n",
    "    \"Date d'installation du site de comptage\", \n",
    "    \"Lien vers photo du site de comptage\",\n",
    "    \"Coordonnées géographiques\",\n",
    "    \"Identifiant technique compteur\",\n",
    "], axis=1)"
   ]
  },
  {
   "cell_type": "code",
   "execution_count": null,
   "id": "ab45b0c0-7931-4d7f-9dd3-57a6cb4deb2d",
   "metadata": {},
   "outputs": [],
   "source": [
    "cleaned."
   ]
  },
  {
   "cell_type": "code",
   "execution_count": 16,
   "id": "f8964ddc-a402-42f5-81aa-783b11893e17",
   "metadata": {},
   "outputs": [],
   "source": [
    "cleaned.to_csv(\"counter_data.csv\", index=False)"
   ]
  },
  {
   "cell_type": "code",
   "execution_count": 14,
   "id": "bbf4cbec-9b1d-426e-9cbb-abc3e6035bab",
   "metadata": {},
   "outputs": [],
   "source": [
    "cleaned[\"Date et heure de comptage\"] = cleaned[\"Date et heure de comptage\"].apply(lambda date: date.replace(\"+02:00\", \"\").replace(\"+01:00\", \"\"))"
   ]
  },
  {
   "cell_type": "code",
   "execution_count": 15,
   "id": "9ab81c73-a0d8-479d-a536-71bc6612a403",
   "metadata": {},
   "outputs": [
    {
     "data": {
      "text/html": [
       "<div>\n",
       "<style scoped>\n",
       "    .dataframe tbody tr th:only-of-type {\n",
       "        vertical-align: middle;\n",
       "    }\n",
       "\n",
       "    .dataframe tbody tr th {\n",
       "        vertical-align: top;\n",
       "    }\n",
       "\n",
       "    .dataframe thead th {\n",
       "        text-align: right;\n",
       "    }\n",
       "</style>\n",
       "<table border=\"1\" class=\"dataframe\">\n",
       "  <thead>\n",
       "    <tr style=\"text-align: right;\">\n",
       "      <th></th>\n",
       "      <th>Identifiant du compteur</th>\n",
       "      <th>Comptage horaire</th>\n",
       "      <th>Date et heure de comptage</th>\n",
       "    </tr>\n",
       "  </thead>\n",
       "  <tbody>\n",
       "    <tr>\n",
       "      <th>0</th>\n",
       "      <td>100003096-353242251</td>\n",
       "      <td>0.0</td>\n",
       "      <td>2020-09-01T04:00:00</td>\n",
       "    </tr>\n",
       "    <tr>\n",
       "      <th>1</th>\n",
       "      <td>100003096-353242251</td>\n",
       "      <td>0.0</td>\n",
       "      <td>2020-09-01T03:00:00</td>\n",
       "    </tr>\n",
       "    <tr>\n",
       "      <th>2</th>\n",
       "      <td>100003096-353242251</td>\n",
       "      <td>14.0</td>\n",
       "      <td>2020-09-01T07:00:00</td>\n",
       "    </tr>\n",
       "    <tr>\n",
       "      <th>3</th>\n",
       "      <td>100003096-353242251</td>\n",
       "      <td>7.0</td>\n",
       "      <td>2020-09-01T06:00:00</td>\n",
       "    </tr>\n",
       "    <tr>\n",
       "      <th>4</th>\n",
       "      <td>100003096-353242251</td>\n",
       "      <td>3.0</td>\n",
       "      <td>2020-09-01T05:00:00</td>\n",
       "    </tr>\n",
       "    <tr>\n",
       "      <th>...</th>\n",
       "      <td>...</td>\n",
       "      <td>...</td>\n",
       "      <td>...</td>\n",
       "    </tr>\n",
       "    <tr>\n",
       "      <th>922700</th>\n",
       "      <td>100056035-353266460</td>\n",
       "      <td>95.0</td>\n",
       "      <td>2021-10-12T13:00:00</td>\n",
       "    </tr>\n",
       "    <tr>\n",
       "      <th>922701</th>\n",
       "      <td>100056035-353266460</td>\n",
       "      <td>69.0</td>\n",
       "      <td>2021-10-12T14:00:00</td>\n",
       "    </tr>\n",
       "    <tr>\n",
       "      <th>922702</th>\n",
       "      <td>100056035-353266460</td>\n",
       "      <td>55.0</td>\n",
       "      <td>2021-10-12T15:00:00</td>\n",
       "    </tr>\n",
       "    <tr>\n",
       "      <th>922703</th>\n",
       "      <td>100056035-353266460</td>\n",
       "      <td>153.0</td>\n",
       "      <td>2021-10-12T19:00:00</td>\n",
       "    </tr>\n",
       "    <tr>\n",
       "      <th>922704</th>\n",
       "      <td>100056035-353266460</td>\n",
       "      <td>9.0</td>\n",
       "      <td>2021-10-12T22:00:00</td>\n",
       "    </tr>\n",
       "  </tbody>\n",
       "</table>\n",
       "<p>922705 rows × 3 columns</p>\n",
       "</div>"
      ],
      "text/plain": [
       "       Identifiant du compteur  Comptage horaire Date et heure de comptage\n",
       "0          100003096-353242251               0.0       2020-09-01T04:00:00\n",
       "1          100003096-353242251               0.0       2020-09-01T03:00:00\n",
       "2          100003096-353242251              14.0       2020-09-01T07:00:00\n",
       "3          100003096-353242251               7.0       2020-09-01T06:00:00\n",
       "4          100003096-353242251               3.0       2020-09-01T05:00:00\n",
       "...                        ...               ...                       ...\n",
       "922700     100056035-353266460              95.0       2021-10-12T13:00:00\n",
       "922701     100056035-353266460              69.0       2021-10-12T14:00:00\n",
       "922702     100056035-353266460              55.0       2021-10-12T15:00:00\n",
       "922703     100056035-353266460             153.0       2021-10-12T19:00:00\n",
       "922704     100056035-353266460               9.0       2021-10-12T22:00:00\n",
       "\n",
       "[922705 rows x 3 columns]"
      ]
     },
     "execution_count": 15,
     "metadata": {},
     "output_type": "execute_result"
    }
   ],
   "source": [
    "cleaned"
   ]
  },
  {
   "cell_type": "code",
   "execution_count": null,
   "id": "40fa4cb8-9c35-4db1-9df2-24b56b339c7f",
   "metadata": {},
   "outputs": [],
   "source": []
  }
 ],
 "metadata": {
  "kernelspec": {
   "display_name": "Python 3 (ipykernel)",
   "language": "python",
   "name": "python3"
  },
  "language_info": {
   "codemirror_mode": {
    "name": "ipython",
    "version": 3
   },
   "file_extension": ".py",
   "mimetype": "text/x-python",
   "name": "python",
   "nbconvert_exporter": "python",
   "pygments_lexer": "ipython3",
   "version": "3.8.5"
  }
 },
 "nbformat": 4,
 "nbformat_minor": 5
}
