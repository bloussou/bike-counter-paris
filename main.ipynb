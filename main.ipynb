{
 "cells": [
  {
   "cell_type": "code",
   "execution_count": 1,
   "id": "cb8d5c44-1ef6-44cc-b828-56085783798f",
   "metadata": {},
   "outputs": [],
   "source": [
    "#%load_ext nb_black"
   ]
  },
  {
   "cell_type": "markdown",
   "id": "0f3d3e0e-aa3c-4caf-8818-b55926de86f3",
   "metadata": {},
   "source": [
    "# Multidimensional analysis of Paris bike counter data\n",
    "\n",
    "## What you will learn\n",
    "\n",
    "- Create a simple data model\n",
    "- Define usefull and meaningfull measures\n",
    "- Define multilevel hierarchies\n",
    "- Understand the dataset\n",
    "- Create an interactive dashboard to summurize information contained in the dataset\n",
    "\n",
    "## Data sources\n",
    "\n",
    "- https://opendata.paris.fr/explore/dataset/comptage-velo-donnees-compteurs/information/?disjunctive.id_compteur&disjunctive.nom_compteur&disjunctive.id&disjunctive.name\n",
    "- https://parisdata.opendatasoft.com/explore/dataset/comptage-velo-compteurs/information/?disjunctive.id_compteur&disjunctive.nom_compteur&disjunctive.id&disjunctive.name&disjunctive.channel_id&disjunctive.channel_name&disjunctive.channel_sens&disjunctive.counter\n",
    "- https://parisdata.opendatasoft.com/explore/dataset/reseau-cyclable/dataviz/?disjunctive.typologie_simple&disjunctive.bidirectionnel&disjunctive.statut&disjunctive.sens_velo&disjunctive.voie&disjunctive.arrdt&disjunctive.bois&disjunctive.position&disjunctive.circulation&disjunctive.piste&disjunctive.couloir_bus&disjunctive.type_continuite&disjunctive.reseau&basemap=jawg.streets&location=16,48.86414,2.34632\n",
    "- https://api.gouv.fr/documentation/api-geo"
   ]
  },
  {
   "cell_type": "code",
   "execution_count": 2,
   "id": "c1332171-efcc-4352-855b-0693dc42c01a",
   "metadata": {},
   "outputs": [],
   "source": [
    "import atoti as tt\n",
    "from pathlib import Path"
   ]
  },
  {
   "cell_type": "markdown",
   "id": "776031c3-c343-4bf4-9d5f-dc763369eb64",
   "metadata": {},
   "source": [
    "### 1. Session creation"
   ]
  },
  {
   "cell_type": "code",
   "execution_count": 3,
   "id": "3440f4f8-6652-4ea5-be3a-71796f3da30f",
   "metadata": {},
   "outputs": [],
   "source": [
    "USER_CONTENT_STORAGE_PATH = Path() / \"content\""
   ]
  },
  {
   "cell_type": "code",
   "execution_count": 4,
   "id": "c0295ce4-9707-49aa-9d82-a1f0133a5547",
   "metadata": {},
   "outputs": [],
   "source": [
    "session = tt.create_session(config = {\"user_content_storage\": USER_CONTENT_STORAGE_PATH})"
   ]
  },
  {
   "cell_type": "markdown",
   "id": "07335cf9-c537-4398-8221-8329256b1229",
   "metadata": {},
   "source": [
    "### 2. Data model definition\n",
    "\n",
    "help :\n",
    "- Data are stored on Amazon s3, you can install [atoti-aws](https://docs.atoti.io/latest/plugins.html)\n",
    "- Only `s3://test.public.atoti.io/td-ismin/counter_data.csv` and `s3://test.public.atoti.io/td-ismin/counter_description.csv` are useful at this point\n",
    "- [read_csv](https://docs.atoti.io/latest/lib/atoti.session.html#atoti.session.Session.read_csv)\n",
    "- [join](https://docs.atoti.io/latest/lib/atoti.table.html#atoti.table.Table.join)"
   ]
  },
  {
   "cell_type": "code",
   "execution_count": 5,
   "id": "36756f41-e7cd-411c-beda-f5703536a6c2",
   "metadata": {},
   "outputs": [],
   "source": [
    "# counter_data =\n",
    "# counter_data.head()"
   ]
  },
  {
   "cell_type": "code",
   "execution_count": 6,
   "id": "d1ea0cd9-1c4b-485a-b38e-ee4a913b800d",
   "metadata": {},
   "outputs": [],
   "source": [
    "# counter_description = \n",
    "# counter_description.head()"
   ]
  },
  {
   "cell_type": "code",
   "execution_count": 7,
   "id": "86f2c77c-1897-4e74-a81c-eedfdd83b40f",
   "metadata": {},
   "outputs": [],
   "source": [
    "# join"
   ]
  },
  {
   "cell_type": "markdown",
   "id": "ac68fb4e-14bf-4e74-817d-26469be56b41",
   "metadata": {
    "tags": []
   },
   "source": [
    "### 3. Cube creation\n",
    "\n",
    "help :\n",
    "- [create_cube](https://docs.atoti.io/latest/lib/atoti.session.html#atoti.session.Session.create_cube)"
   ]
  },
  {
   "cell_type": "code",
   "execution_count": 8,
   "id": "f13a9c86-c869-41f0-ad96-973881c227c6",
   "metadata": {},
   "outputs": [],
   "source": [
    "# cube = session.create_cube(counter_data, mode=\"manual\")"
   ]
  },
  {
   "cell_type": "code",
   "execution_count": 9,
   "id": "bd24cd18-714e-424d-82e1-828963ab79c5",
   "metadata": {},
   "outputs": [],
   "source": [
    "# cube"
   ]
  },
  {
   "cell_type": "code",
   "execution_count": 10,
   "id": "6ac3c713-bcee-41fc-8679-fc2e35d9ad67",
   "metadata": {},
   "outputs": [],
   "source": [
    "# cube.schema"
   ]
  },
  {
   "cell_type": "markdown",
   "id": "b9937d37-8b56-4a7d-bbb4-b7f16cbafeb5",
   "metadata": {
    "tags": []
   },
   "source": [
    "### 4. Create hierarchies"
   ]
  },
  {
   "cell_type": "code",
   "execution_count": 11,
   "id": "14fc3fb7-acc9-4015-aa80-448a07c77fab",
   "metadata": {},
   "outputs": [],
   "source": [
    "# h, l, m = cube.hierarchies, cube.levels, cube.measures\n",
    "# h"
   ]
  },
  {
   "cell_type": "code",
   "execution_count": 12,
   "id": "c244d172-9a15-4332-90cf-6b4d3fc8524a",
   "metadata": {},
   "outputs": [],
   "source": [
    "# h[\"Nom du compteur\"] = [counter_description[\"Nom du compteur\"]]\n",
    "# h[\"Géographie\"] = "
   ]
  },
  {
   "cell_type": "code",
   "execution_count": 13,
   "id": "11f6de11-7e00-4aa0-8d81-e42c2f25cc90",
   "metadata": {},
   "outputs": [],
   "source": [
    "# tt.experimental.create_date_hierarchy(\n",
    "#     \"Date\",\n",
    "#     ...\n",
    "# )\n",
    "# tt.experimental.create_date_hierarchy(\n",
    "#     \"Date installation site de comptage\",\n",
    "#     ...\n",
    "# )"
   ]
  },
  {
   "cell_type": "code",
   "execution_count": 14,
   "id": "a2f7e2fe-85bc-474a-bac7-8eeec830cb99",
   "metadata": {},
   "outputs": [],
   "source": [
    "# h"
   ]
  },
  {
   "cell_type": "markdown",
   "id": "c998ff4b-6254-48ad-8c74-816bee41b5bf",
   "metadata": {},
   "source": [
    "### 5. Create measures"
   ]
  },
  {
   "cell_type": "code",
   "execution_count": 15,
   "id": "55656b01-d062-4131-9fbf-be25b4aa34c5",
   "metadata": {},
   "outputs": [],
   "source": [
    "# m[\"Nombre de vélos\"] = tt.agg.sum(counter_data[\"Comptage horaire\"])\n",
    "# m[\"Maximum de vélos\"] = \n",
    "# m[\"Moyenne de vélos comptés\"] = \n",
    "# m[\"Compteur avec le maximum de vélos\"] = \n",
    "# m[\"Nombre de compteur installés\"] = \n",
    "# m[\"Cumul de compteur installés\"] = "
   ]
  },
  {
   "cell_type": "code",
   "execution_count": 16,
   "id": "7eaa9c68-54bc-4b48-8433-4dca40649968",
   "metadata": {},
   "outputs": [],
   "source": [
    "# m"
   ]
  },
  {
   "cell_type": "markdown",
   "id": "73142e67-4dd0-426c-b3fd-6f8b46a3701c",
   "metadata": {},
   "source": [
    "### 6. Questions\n",
    "\n",
    "Create widgets using [session.visualize()](https://docs.atoti.io/latest/lib/atoti.session.html#atoti.session.Session.visualize) to answer these questions\n"
   ]
  },
  {
   "cell_type": "code",
   "execution_count": 17,
   "id": "3010ca36-eea5-4101-959f-fc26a5815ae3",
   "metadata": {},
   "outputs": [
    {
     "data": {
      "application/vnd.atoti.widget.v0+json": {
       "name": "Counters with the maximum number of count given a year, month, day, hour",
       "sessionId": "c7f633e4-28b0-4f05-a9c3-55b1cf436681",
       "sessionLocation": {
        "https": false,
        "port": 46343
       },
       "widgetCreationCode": "session.visualize()"
      },
      "text/html": [
       "<img src=\"data:image/svg+xml;charset=utf8,%3C%3Fxml%20version%3D%221.0%22%20standalone%3D%22no%22%3F%3E%3Csvg%20xmlns%3D%22http%3A%2F%2Fwww.w3.org%2F2000%2Fsvg%22%20height%3D%22352%22%20width%3D%22991%22%3E%3CforeignObject%20width%3D%22100%25%22%20height%3D%22100%25%22%20x%3D%220%22%20y%3D%220%22%3E%3Cstyle%20xmlns%3D%22http%3A%2F%2Fwww.w3.org%2F1999%2Fxhtml%22%20type%3D%22text%2Fcss%22%3E*%2C%20%3A%3Abefore%2C%20%3A%3Aafter%20%7Bbox-sizing%3A%20unset%7D%0A.ant-root%20%5Bclass%5E%3D%22ant-%22%5D%2C%20.ant-root%20%5Bclass*%3D%22ant-%22%5D%2C%20.ant-root%20%5Bclass%5E%3D%22ant-%22%5D%20*%2C%20.ant-root%20%5Bclass*%3D%22ant-%22%5D%20*%2C%20.ant-root%20%5Bclass%5E%3D%22ant-%22%5D%20%3A%3Abefore%2C%20.ant-root%20%5Bclass*%3D%22ant-%22%5D%20%3A%3Abefore%2C%20.ant-root%20%5Bclass%5E%3D%22ant-%22%5D%20%3A%3Aafter%2C%20.ant-root%20%5Bclass*%3D%22ant-%22%5D%20%3A%3Aafter%20%7Bbox-sizing%3A%20border-box%7D%0A.ant-root%20html%2C%20.ant-root%20%7Bwidth%3A%20100%25%3B%20height%3A%20100%25%7D%0A.ant-root%20*%2C%20.ant-root%20%3A%3Abefore%2C%20.ant-root%20%3A%3Aafter%20%7Bbox-sizing%3A%20border-box%7D%0A.ant-root%20%7Bmargin-top%3A%200px%3B%20margin-right%3A%200px%3B%20margin-bottom%3A%200px%3B%20margin-left%3A%200px%3B%20color%3A%20rgb(89%2C%2089%2C%2089)%3B%20font-size%3A%2012px%3B%20font-family%3A%20-apple-system%2C%20BlinkMacSystemFont%2C%20%22Segoe%20UI%22%2C%20Roboto%2C%20%22Helvetica%20Neue%22%2C%20Arial%2C%20%22Noto%20Sans%22%2C%20sans-serif%2C%20%22Apple%20Color%20Emoji%22%2C%20%22Segoe%20UI%20Emoji%22%2C%20%22Segoe%20UI%20Symbol%22%2C%20%22Noto%20Color%20Emoji%22%3B%20font-variant-caps%3A%20normal%3B%20font-variant-alternates%3A%20normal%3B%20font-variant-east-asian%3A%20normal%3B%20font-variant-ligatures%3A%20normal%3B%20font-variant-numeric%3A%20tabular-nums%3B%20font-variant-position%3A%20normal%3B%20line-height%3A%201.66667%3B%20background-color%3A%20rgb(255%2C%20255%2C%20255)%3B%20--antd-wave-shadow-color%3A%20%231890FF%3B%20--scroll-bar%3A%200%7D%0A.ant-root%20h1%2C%20.ant-root%20h2%2C%20.ant-root%20h3%2C%20.ant-root%20h4%2C%20.ant-root%20h5%2C%20.ant-root%20h6%20%7Bmargin-top%3A%200px%3B%20margin-bottom%3A%200.5em%3B%20color%3A%20rgb(0%2C%200%2C%200)%3B%20font-weight%3A%20500%7D%0A.ant-root%20.ant-typography%20%7Bcolor%3A%20rgb(89%2C%2089%2C%2089)%3B%20overflow-wrap%3A%20break-word%7D%0A.ant-root%20h2.ant-typography%2C%20.ant-root%20.ant-typography%20h2%20%7Bmargin-bottom%3A%200.5em%3B%20color%3A%20rgb(0%2C%200%2C%200)%3B%20font-weight%3A%20600%3B%20font-size%3A%2024px%3B%20line-height%3A%201.35%7D%0A.ant-root%20h2.ant-typography%20%7Bfont-weight%3A%20400%7D%0A.css-12ebr42-AWidget%20%7Bheight%3A%20100%25%7D%0A.css-1rzojne-CenteredTitle%20%7Bheight%3A%20100%25%3B%20display%3A%20flex%3B%20-moz-box-align%3A%20center%3B%20align-items%3A%20center%3B%20-moz-box-pack%3A%20center%3B%20justify-content%3A%20center%7D%0A*%20%7B-ms-overflow-style%3A%20none%3B%20scrollbar-width%3A%20none%7D%0A*%3A%3A-webkit-scrollbar%20%7Bdisplay%3A%20none%7D%0A.atoti-hidden-in-snapshot%20%7Bdisplay%3A%20none%7D%3C%2Fstyle%3E%3Cdiv%20xmlns%3D%22http%3A%2F%2Fwww.w3.org%2F1999%2Fxhtml%22%20style%3D%22height%3A%20352px%3B%20width%3A%20991px%3B%22%3E%3Cdiv%20class%3D%22ant-root%20css-0%22%3E%3Cdiv%20class%3D%22ant-dropdown-trigger%20css-12ebr42-AWidget%22%3E%3Cdiv%20class%3D%22css-1rzojne-CenteredTitle%22%3E%3Ch2%20class%3D%22ant-typography%22%20style%3D%22font-size%3A%2016px%3B%20line-height%3A%2024px%3B%20font-weight%3A%20400%3B%20color%3A%20rgb(90%2C%2090%2C%2090)%3B%20margin%3A%200px%3B%22%3EThe%20server%20%E2%80%9Cdefault%E2%80%9D%20does%20not%20contain%20any%20cube.%3C%2Fh2%3E%3C%2Fdiv%3E%3C%2Fdiv%3E%3C%2Fdiv%3E%3C%2Fdiv%3E%3C%2FforeignObject%3E%3C%2Fsvg%3E\">"
      ],
      "text/plain": [
       "Open the notebook in JupyterLab with the atoti extension enabled to build this widget."
      ]
     },
     "metadata": {},
     "output_type": "display_data"
    }
   ],
   "source": [
    "session.visualize(\"Counters with the maximum number of count given a year, month, day, hour\")"
   ]
  },
  {
   "cell_type": "code",
   "execution_count": 18,
   "id": "351c6431-c424-4c13-9d25-c663e3ac1df7",
   "metadata": {},
   "outputs": [
    {
     "data": {
      "application/vnd.atoti.widget.v0+json": {
       "name": "Number of counter per district",
       "sessionId": "c7f633e4-28b0-4f05-a9c3-55b1cf436681",
       "sessionLocation": {
        "https": false,
        "port": 46343
       },
       "widgetCreationCode": "session.visualize()"
      },
      "text/html": [
       "<img src=\"data:image/svg+xml;charset=utf8,%3C%3Fxml%20version%3D%221.0%22%20standalone%3D%22no%22%3F%3E%3Csvg%20xmlns%3D%22http%3A%2F%2Fwww.w3.org%2F2000%2Fsvg%22%20height%3D%22352%22%20width%3D%22991%22%3E%3CforeignObject%20width%3D%22100%25%22%20height%3D%22100%25%22%20x%3D%220%22%20y%3D%220%22%3E%3Cstyle%20xmlns%3D%22http%3A%2F%2Fwww.w3.org%2F1999%2Fxhtml%22%20type%3D%22text%2Fcss%22%3E*%2C%20%3A%3Abefore%2C%20%3A%3Aafter%20%7Bbox-sizing%3A%20unset%7D%0A.ant-root%20%5Bclass%5E%3D%22ant-%22%5D%2C%20.ant-root%20%5Bclass*%3D%22ant-%22%5D%2C%20.ant-root%20%5Bclass%5E%3D%22ant-%22%5D%20*%2C%20.ant-root%20%5Bclass*%3D%22ant-%22%5D%20*%2C%20.ant-root%20%5Bclass%5E%3D%22ant-%22%5D%20%3A%3Abefore%2C%20.ant-root%20%5Bclass*%3D%22ant-%22%5D%20%3A%3Abefore%2C%20.ant-root%20%5Bclass%5E%3D%22ant-%22%5D%20%3A%3Aafter%2C%20.ant-root%20%5Bclass*%3D%22ant-%22%5D%20%3A%3Aafter%20%7Bbox-sizing%3A%20border-box%7D%0A.ant-root%20html%2C%20.ant-root%20%7Bwidth%3A%20100%25%3B%20height%3A%20100%25%7D%0A.ant-root%20*%2C%20.ant-root%20%3A%3Abefore%2C%20.ant-root%20%3A%3Aafter%20%7Bbox-sizing%3A%20border-box%7D%0A.ant-root%20%7Bmargin-top%3A%200px%3B%20margin-right%3A%200px%3B%20margin-bottom%3A%200px%3B%20margin-left%3A%200px%3B%20color%3A%20rgb(89%2C%2089%2C%2089)%3B%20font-size%3A%2012px%3B%20font-family%3A%20-apple-system%2C%20BlinkMacSystemFont%2C%20%22Segoe%20UI%22%2C%20Roboto%2C%20%22Helvetica%20Neue%22%2C%20Arial%2C%20%22Noto%20Sans%22%2C%20sans-serif%2C%20%22Apple%20Color%20Emoji%22%2C%20%22Segoe%20UI%20Emoji%22%2C%20%22Segoe%20UI%20Symbol%22%2C%20%22Noto%20Color%20Emoji%22%3B%20font-variant-caps%3A%20normal%3B%20font-variant-alternates%3A%20normal%3B%20font-variant-east-asian%3A%20normal%3B%20font-variant-ligatures%3A%20normal%3B%20font-variant-numeric%3A%20tabular-nums%3B%20font-variant-position%3A%20normal%3B%20line-height%3A%201.66667%3B%20background-color%3A%20rgb(255%2C%20255%2C%20255)%3B%20--antd-wave-shadow-color%3A%20%231890FF%3B%20--scroll-bar%3A%200%7D%0A.ant-root%20h1%2C%20.ant-root%20h2%2C%20.ant-root%20h3%2C%20.ant-root%20h4%2C%20.ant-root%20h5%2C%20.ant-root%20h6%20%7Bmargin-top%3A%200px%3B%20margin-bottom%3A%200.5em%3B%20color%3A%20rgb(0%2C%200%2C%200)%3B%20font-weight%3A%20500%7D%0A.ant-root%20.ant-typography%20%7Bcolor%3A%20rgb(89%2C%2089%2C%2089)%3B%20overflow-wrap%3A%20break-word%7D%0A.ant-root%20h2.ant-typography%2C%20.ant-root%20.ant-typography%20h2%20%7Bmargin-bottom%3A%200.5em%3B%20color%3A%20rgb(0%2C%200%2C%200)%3B%20font-weight%3A%20600%3B%20font-size%3A%2024px%3B%20line-height%3A%201.35%7D%0A.ant-root%20h2.ant-typography%20%7Bfont-weight%3A%20400%7D%0A.css-12ebr42-AWidget%20%7Bheight%3A%20100%25%7D%0A.css-1rzojne-CenteredTitle%20%7Bheight%3A%20100%25%3B%20display%3A%20flex%3B%20-moz-box-align%3A%20center%3B%20align-items%3A%20center%3B%20-moz-box-pack%3A%20center%3B%20justify-content%3A%20center%7D%0A*%20%7B-ms-overflow-style%3A%20none%3B%20scrollbar-width%3A%20none%7D%0A*%3A%3A-webkit-scrollbar%20%7Bdisplay%3A%20none%7D%0A.atoti-hidden-in-snapshot%20%7Bdisplay%3A%20none%7D%3C%2Fstyle%3E%3Cdiv%20xmlns%3D%22http%3A%2F%2Fwww.w3.org%2F1999%2Fxhtml%22%20style%3D%22height%3A%20352px%3B%20width%3A%20991px%3B%22%3E%3Cdiv%20class%3D%22ant-root%20css-0%22%3E%3Cdiv%20class%3D%22ant-dropdown-trigger%20css-12ebr42-AWidget%22%3E%3Cdiv%20class%3D%22css-1rzojne-CenteredTitle%22%3E%3Ch2%20class%3D%22ant-typography%22%20style%3D%22font-size%3A%2016px%3B%20line-height%3A%2024px%3B%20font-weight%3A%20400%3B%20color%3A%20rgb(90%2C%2090%2C%2090)%3B%20margin%3A%200px%3B%22%3EThe%20server%20%E2%80%9Cdefault%E2%80%9D%20does%20not%20contain%20any%20cube.%3C%2Fh2%3E%3C%2Fdiv%3E%3C%2Fdiv%3E%3C%2Fdiv%3E%3C%2Fdiv%3E%3C%2FforeignObject%3E%3C%2Fsvg%3E\">"
      ],
      "text/plain": [
       "Open the notebook in JupyterLab with the atoti extension enabled to build this widget."
      ]
     },
     "metadata": {},
     "output_type": "display_data"
    }
   ],
   "source": [
    "session.visualize(\"Number of counter per district\")"
   ]
  },
  {
   "cell_type": "code",
   "execution_count": 19,
   "id": "72388030-0e55-484e-81a4-38dec62d53d6",
   "metadata": {},
   "outputs": [
    {
     "data": {
      "application/vnd.atoti.widget.v0+json": {
       "name": "In which way is done the commute Boulevard Voltaire",
       "sessionId": "c7f633e4-28b0-4f05-a9c3-55b1cf436681",
       "sessionLocation": {
        "https": false,
        "port": 46343
       },
       "widgetCreationCode": "session.visualize()"
      },
      "text/html": [
       "<img src=\"data:image/svg+xml;charset=utf8,%3C%3Fxml%20version%3D%221.0%22%20standalone%3D%22no%22%3F%3E%3Csvg%20xmlns%3D%22http%3A%2F%2Fwww.w3.org%2F2000%2Fsvg%22%20height%3D%22352%22%20width%3D%22991%22%3E%3CforeignObject%20width%3D%22100%25%22%20height%3D%22100%25%22%20x%3D%220%22%20y%3D%220%22%3E%3Cstyle%20xmlns%3D%22http%3A%2F%2Fwww.w3.org%2F1999%2Fxhtml%22%20type%3D%22text%2Fcss%22%3E*%2C%20%3A%3Abefore%2C%20%3A%3Aafter%20%7Bbox-sizing%3A%20unset%7D%0A.ant-root%20%5Bclass%5E%3D%22ant-%22%5D%2C%20.ant-root%20%5Bclass*%3D%22ant-%22%5D%2C%20.ant-root%20%5Bclass%5E%3D%22ant-%22%5D%20*%2C%20.ant-root%20%5Bclass*%3D%22ant-%22%5D%20*%2C%20.ant-root%20%5Bclass%5E%3D%22ant-%22%5D%20%3A%3Abefore%2C%20.ant-root%20%5Bclass*%3D%22ant-%22%5D%20%3A%3Abefore%2C%20.ant-root%20%5Bclass%5E%3D%22ant-%22%5D%20%3A%3Aafter%2C%20.ant-root%20%5Bclass*%3D%22ant-%22%5D%20%3A%3Aafter%20%7Bbox-sizing%3A%20border-box%7D%0A.ant-root%20html%2C%20.ant-root%20%7Bwidth%3A%20100%25%3B%20height%3A%20100%25%7D%0A.ant-root%20*%2C%20.ant-root%20%3A%3Abefore%2C%20.ant-root%20%3A%3Aafter%20%7Bbox-sizing%3A%20border-box%7D%0A.ant-root%20%7Bmargin-top%3A%200px%3B%20margin-right%3A%200px%3B%20margin-bottom%3A%200px%3B%20margin-left%3A%200px%3B%20color%3A%20rgb(89%2C%2089%2C%2089)%3B%20font-size%3A%2012px%3B%20font-family%3A%20-apple-system%2C%20BlinkMacSystemFont%2C%20%22Segoe%20UI%22%2C%20Roboto%2C%20%22Helvetica%20Neue%22%2C%20Arial%2C%20%22Noto%20Sans%22%2C%20sans-serif%2C%20%22Apple%20Color%20Emoji%22%2C%20%22Segoe%20UI%20Emoji%22%2C%20%22Segoe%20UI%20Symbol%22%2C%20%22Noto%20Color%20Emoji%22%3B%20font-variant-caps%3A%20normal%3B%20font-variant-alternates%3A%20normal%3B%20font-variant-east-asian%3A%20normal%3B%20font-variant-ligatures%3A%20normal%3B%20font-variant-numeric%3A%20tabular-nums%3B%20font-variant-position%3A%20normal%3B%20line-height%3A%201.66667%3B%20background-color%3A%20rgb(255%2C%20255%2C%20255)%3B%20--antd-wave-shadow-color%3A%20%231890FF%3B%20--scroll-bar%3A%200%7D%0A.ant-root%20h1%2C%20.ant-root%20h2%2C%20.ant-root%20h3%2C%20.ant-root%20h4%2C%20.ant-root%20h5%2C%20.ant-root%20h6%20%7Bmargin-top%3A%200px%3B%20margin-bottom%3A%200.5em%3B%20color%3A%20rgb(0%2C%200%2C%200)%3B%20font-weight%3A%20500%7D%0A.ant-root%20.ant-typography%20%7Bcolor%3A%20rgb(89%2C%2089%2C%2089)%3B%20overflow-wrap%3A%20break-word%7D%0A.ant-root%20h2.ant-typography%2C%20.ant-root%20.ant-typography%20h2%20%7Bmargin-bottom%3A%200.5em%3B%20color%3A%20rgb(0%2C%200%2C%200)%3B%20font-weight%3A%20600%3B%20font-size%3A%2024px%3B%20line-height%3A%201.35%7D%0A.ant-root%20h2.ant-typography%20%7Bfont-weight%3A%20400%7D%0A.css-12ebr42-AWidget%20%7Bheight%3A%20100%25%7D%0A.css-1rzojne-CenteredTitle%20%7Bheight%3A%20100%25%3B%20display%3A%20flex%3B%20-moz-box-align%3A%20center%3B%20align-items%3A%20center%3B%20-moz-box-pack%3A%20center%3B%20justify-content%3A%20center%7D%0A*%20%7B-ms-overflow-style%3A%20none%3B%20scrollbar-width%3A%20none%7D%0A*%3A%3A-webkit-scrollbar%20%7Bdisplay%3A%20none%7D%0A.atoti-hidden-in-snapshot%20%7Bdisplay%3A%20none%7D%3C%2Fstyle%3E%3Cdiv%20xmlns%3D%22http%3A%2F%2Fwww.w3.org%2F1999%2Fxhtml%22%20style%3D%22height%3A%20352px%3B%20width%3A%20991px%3B%22%3E%3Cdiv%20class%3D%22ant-root%20css-0%22%3E%3Cdiv%20class%3D%22ant-dropdown-trigger%20css-12ebr42-AWidget%22%3E%3Cdiv%20class%3D%22css-1rzojne-CenteredTitle%22%3E%3Ch2%20class%3D%22ant-typography%22%20style%3D%22font-size%3A%2016px%3B%20line-height%3A%2024px%3B%20font-weight%3A%20400%3B%20color%3A%20rgb(90%2C%2090%2C%2090)%3B%20margin%3A%200px%3B%22%3EThe%20server%20%E2%80%9Cdefault%E2%80%9D%20does%20not%20contain%20any%20cube.%3C%2Fh2%3E%3C%2Fdiv%3E%3C%2Fdiv%3E%3C%2Fdiv%3E%3C%2Fdiv%3E%3C%2FforeignObject%3E%3C%2Fsvg%3E\">"
      ],
      "text/plain": [
       "Open the notebook in JupyterLab with the atoti extension enabled to build this widget."
      ]
     },
     "metadata": {},
     "output_type": "display_data"
    }
   ],
   "source": [
    "session.visualize(\"In which way is done the commute Boulevard Voltaire\")"
   ]
  },
  {
   "cell_type": "code",
   "execution_count": 20,
   "id": "c98b1f7d-c70f-4066-b19c-0d5c5b182a82",
   "metadata": {},
   "outputs": [
    {
     "data": {
      "application/vnd.atoti.widget.v0+json": {
       "name": "Evolution of counter installation",
       "sessionId": "c7f633e4-28b0-4f05-a9c3-55b1cf436681",
       "sessionLocation": {
        "https": false,
        "port": 46343
       },
       "widgetCreationCode": "session.visualize()"
      },
      "text/html": [
       "<img src=\"data:image/svg+xml;charset=utf8,%3C%3Fxml%20version%3D%221.0%22%20standalone%3D%22no%22%3F%3E%3Csvg%20xmlns%3D%22http%3A%2F%2Fwww.w3.org%2F2000%2Fsvg%22%20height%3D%22352%22%20width%3D%22991%22%3E%3CforeignObject%20width%3D%22100%25%22%20height%3D%22100%25%22%20x%3D%220%22%20y%3D%220%22%3E%3Cstyle%20xmlns%3D%22http%3A%2F%2Fwww.w3.org%2F1999%2Fxhtml%22%20type%3D%22text%2Fcss%22%3E*%2C%20%3A%3Abefore%2C%20%3A%3Aafter%20%7Bbox-sizing%3A%20unset%7D%0A.ant-root%20%5Bclass%5E%3D%22ant-%22%5D%2C%20.ant-root%20%5Bclass*%3D%22ant-%22%5D%2C%20.ant-root%20%5Bclass%5E%3D%22ant-%22%5D%20*%2C%20.ant-root%20%5Bclass*%3D%22ant-%22%5D%20*%2C%20.ant-root%20%5Bclass%5E%3D%22ant-%22%5D%20%3A%3Abefore%2C%20.ant-root%20%5Bclass*%3D%22ant-%22%5D%20%3A%3Abefore%2C%20.ant-root%20%5Bclass%5E%3D%22ant-%22%5D%20%3A%3Aafter%2C%20.ant-root%20%5Bclass*%3D%22ant-%22%5D%20%3A%3Aafter%20%7Bbox-sizing%3A%20border-box%7D%0A.ant-root%20html%2C%20.ant-root%20%7Bwidth%3A%20100%25%3B%20height%3A%20100%25%7D%0A.ant-root%20*%2C%20.ant-root%20%3A%3Abefore%2C%20.ant-root%20%3A%3Aafter%20%7Bbox-sizing%3A%20border-box%7D%0A.ant-root%20%7Bmargin-top%3A%200px%3B%20margin-right%3A%200px%3B%20margin-bottom%3A%200px%3B%20margin-left%3A%200px%3B%20color%3A%20rgb(89%2C%2089%2C%2089)%3B%20font-size%3A%2012px%3B%20font-family%3A%20-apple-system%2C%20BlinkMacSystemFont%2C%20%22Segoe%20UI%22%2C%20Roboto%2C%20%22Helvetica%20Neue%22%2C%20Arial%2C%20%22Noto%20Sans%22%2C%20sans-serif%2C%20%22Apple%20Color%20Emoji%22%2C%20%22Segoe%20UI%20Emoji%22%2C%20%22Segoe%20UI%20Symbol%22%2C%20%22Noto%20Color%20Emoji%22%3B%20font-variant-caps%3A%20normal%3B%20font-variant-alternates%3A%20normal%3B%20font-variant-east-asian%3A%20normal%3B%20font-variant-ligatures%3A%20normal%3B%20font-variant-numeric%3A%20tabular-nums%3B%20font-variant-position%3A%20normal%3B%20line-height%3A%201.66667%3B%20background-color%3A%20rgb(255%2C%20255%2C%20255)%3B%20--antd-wave-shadow-color%3A%20%231890FF%3B%20--scroll-bar%3A%200%7D%0A.ant-root%20h1%2C%20.ant-root%20h2%2C%20.ant-root%20h3%2C%20.ant-root%20h4%2C%20.ant-root%20h5%2C%20.ant-root%20h6%20%7Bmargin-top%3A%200px%3B%20margin-bottom%3A%200.5em%3B%20color%3A%20rgb(0%2C%200%2C%200)%3B%20font-weight%3A%20500%7D%0A.ant-root%20.ant-typography%20%7Bcolor%3A%20rgb(89%2C%2089%2C%2089)%3B%20overflow-wrap%3A%20break-word%7D%0A.ant-root%20h2.ant-typography%2C%20.ant-root%20.ant-typography%20h2%20%7Bmargin-bottom%3A%200.5em%3B%20color%3A%20rgb(0%2C%200%2C%200)%3B%20font-weight%3A%20600%3B%20font-size%3A%2024px%3B%20line-height%3A%201.35%7D%0A.ant-root%20h2.ant-typography%20%7Bfont-weight%3A%20400%7D%0A.css-12ebr42-AWidget%20%7Bheight%3A%20100%25%7D%0A.css-1rzojne-CenteredTitle%20%7Bheight%3A%20100%25%3B%20display%3A%20flex%3B%20-moz-box-align%3A%20center%3B%20align-items%3A%20center%3B%20-moz-box-pack%3A%20center%3B%20justify-content%3A%20center%7D%0A*%20%7B-ms-overflow-style%3A%20none%3B%20scrollbar-width%3A%20none%7D%0A*%3A%3A-webkit-scrollbar%20%7Bdisplay%3A%20none%7D%0A.atoti-hidden-in-snapshot%20%7Bdisplay%3A%20none%7D%3C%2Fstyle%3E%3Cdiv%20xmlns%3D%22http%3A%2F%2Fwww.w3.org%2F1999%2Fxhtml%22%20style%3D%22height%3A%20352px%3B%20width%3A%20991px%3B%22%3E%3Cdiv%20class%3D%22ant-root%20css-0%22%3E%3Cdiv%20class%3D%22ant-dropdown-trigger%20css-12ebr42-AWidget%22%3E%3Cdiv%20class%3D%22css-1rzojne-CenteredTitle%22%3E%3Ch2%20class%3D%22ant-typography%22%20style%3D%22font-size%3A%2016px%3B%20line-height%3A%2024px%3B%20font-weight%3A%20400%3B%20color%3A%20rgb(90%2C%2090%2C%2090)%3B%20margin%3A%200px%3B%22%3EThe%20server%20%E2%80%9Cdefault%E2%80%9D%20does%20not%20contain%20any%20cube.%3C%2Fh2%3E%3C%2Fdiv%3E%3C%2Fdiv%3E%3C%2Fdiv%3E%3C%2Fdiv%3E%3C%2FforeignObject%3E%3C%2Fsvg%3E\">"
      ],
      "text/plain": [
       "Open the notebook in JupyterLab with the atoti extension enabled to build this widget."
      ]
     },
     "metadata": {},
     "output_type": "display_data"
    }
   ],
   "source": [
    "session.visualize(\"Evolution of counter installation\")"
   ]
  },
  {
   "cell_type": "code",
   "execution_count": 21,
   "id": "627007ba-a733-42d1-9e07-539a532d4920",
   "metadata": {},
   "outputs": [
    {
     "data": {
      "application/vnd.atoti.link.v0+json": {
       "path": "",
       "sessionLocation": {
        "https": false,
        "port": 46343
       }
      },
      "text/plain": [
       "Open the notebook in JupyterLab with the atoti extension enabled to see this link."
      ]
     },
     "execution_count": 21,
     "metadata": {},
     "output_type": "execute_result"
    }
   ],
   "source": [
    "# Create a dashboard to quickly get KPI\n",
    "session.link()"
   ]
  },
  {
   "cell_type": "markdown",
   "id": "69fc4976-b830-4c67-a6df-afac2942b0e1",
   "metadata": {},
   "source": [
    "### Bonuses\n",
    "\n",
    "Two questions if you have time :\n",
    "\n",
    "1. Is there a correlation between the cycle network and data collected by counter (use `s3://test.public.atoti.io/td-ismin/cycle_network.csv`)\n",
    "1. Use the open data API to create a dashboard that will be updated automatically each day"
   ]
  },
  {
   "cell_type": "code",
   "execution_count": null,
   "id": "7e6eddb1-e978-4fbb-a019-a9bcea4fa17d",
   "metadata": {},
   "outputs": [],
   "source": []
  }
 ],
 "metadata": {
  "kernelspec": {
   "display_name": "Python 3 (ipykernel)",
   "language": "python",
   "name": "python3"
  },
  "language_info": {
   "codemirror_mode": {
    "name": "ipython",
    "version": 3
   },
   "file_extension": ".py",
   "mimetype": "text/x-python",
   "name": "python",
   "nbconvert_exporter": "python",
   "pygments_lexer": "ipython3",
   "version": "3.8.5"
  }
 },
 "nbformat": 4,
 "nbformat_minor": 5
}
